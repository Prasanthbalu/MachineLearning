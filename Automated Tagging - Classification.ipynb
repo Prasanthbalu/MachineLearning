{
 "cells": [
  {
   "cell_type": "code",
   "execution_count": 1,
   "metadata": {
    "collapsed": false
   },
   "outputs": [
    {
     "name": "stderr",
     "output_type": "stream",
     "text": [
      "c:\\users\\subburam.subbiah\\appdata\\local\\programs\\python\\python36\\lib\\site-packages\\sklearn\\cross_validation.py:41: DeprecationWarning: This module was deprecated in version 0.18 in favor of the model_selection module into which all the refactored classes and functions are moved. Also note that the interface of the new CV iterators are different from that of this module. This module will be removed in 0.20.\n",
      "  \"This module will be removed in 0.20.\", DeprecationWarning)\n",
      "c:\\users\\subburam.subbiah\\appdata\\local\\programs\\python\\python36\\lib\\site-packages\\sklearn\\ensemble\\weight_boosting.py:29: DeprecationWarning: numpy.core.umath_tests is an internal NumPy module and should not be imported. It will be removed in a future NumPy release.\n",
      "  from numpy.core.umath_tests import inner1d\n"
     ]
    }
   ],
   "source": [
    "import pandas as pd\n",
    "from nltk.tokenize import word_tokenize\n",
    "import nltk\n",
    "from nltk.corpus import stopwords\n",
    "from textblob import Word\n",
    "import sklearn\n",
    "from sklearn import datasets, linear_model\n",
    "from sklearn.model_selection import train_test_split\n",
    "from sklearn.cross_validation import train_test_split\n",
    "from sklearn.model_selection import StratifiedShuffleSplit\n",
    "import numpy as np\n",
    "from sklearn.svm import LinearSVC\n",
    "from sklearn.pipeline import Pipeline\n",
    "from sklearn import metrics\n",
    "from sklearn.feature_extraction.text import CountVectorizer\n",
    "from sklearn.feature_extraction.text import TfidfTransformer\n",
    "from sklearn import tree\n",
    "from sklearn.ensemble import RandomForestClassifier\n",
    "from sklearn.pipeline import Pipeline"
   ]
  },
  {
   "cell_type": "code",
   "execution_count": 152,
   "metadata": {
    "collapsed": true
   },
   "outputs": [],
   "source": [
    "data = pd.read_excel(\"C:/Users/subburam.subbiah/Desktop/Curent Work/BMW Tagging/Classification/Training_set.xlsx\")"
   ]
  },
  {
   "cell_type": "code",
   "execution_count": 153,
   "metadata": {
    "collapsed": false
   },
   "outputs": [
    {
     "data": {
      "text/html": [
       "<div>\n",
       "<style scoped>\n",
       "    .dataframe tbody tr th:only-of-type {\n",
       "        vertical-align: middle;\n",
       "    }\n",
       "\n",
       "    .dataframe tbody tr th {\n",
       "        vertical-align: top;\n",
       "    }\n",
       "\n",
       "    .dataframe thead th {\n",
       "        text-align: right;\n",
       "    }\n",
       "</style>\n",
       "<table border=\"1\" class=\"dataframe\">\n",
       "  <thead>\n",
       "    <tr style=\"text-align: right;\">\n",
       "      <th></th>\n",
       "      <th>Feedback</th>\n",
       "      <th>Type</th>\n",
       "    </tr>\n",
       "  </thead>\n",
       "  <tbody>\n",
       "    <tr>\n",
       "      <th>0</th>\n",
       "      <td>Customer stated that when he got the vehicle t...</td>\n",
       "      <td>Defect</td>\n",
       "    </tr>\n",
       "    <tr>\n",
       "      <th>1</th>\n",
       "      <td>Customer stated she used to have the remaining...</td>\n",
       "      <td>DTU</td>\n",
       "    </tr>\n",
       "    <tr>\n",
       "      <th>2</th>\n",
       "      <td>The customer stated she was having trouble wit...</td>\n",
       "      <td>Defect</td>\n",
       "    </tr>\n",
       "    <tr>\n",
       "      <th>3</th>\n",
       "      <td>Customer asked if she had the power tailgate f...</td>\n",
       "      <td>DTU</td>\n",
       "    </tr>\n",
       "    <tr>\n",
       "      <th>4</th>\n",
       "      <td>Customer stated there was a bow on the car and...</td>\n",
       "      <td>Defect</td>\n",
       "    </tr>\n",
       "  </tbody>\n",
       "</table>\n",
       "</div>"
      ],
      "text/plain": [
       "                                            Feedback    Type\n",
       "0  Customer stated that when he got the vehicle t...  Defect\n",
       "1  Customer stated she used to have the remaining...     DTU\n",
       "2  The customer stated she was having trouble wit...  Defect\n",
       "3  Customer asked if she had the power tailgate f...     DTU\n",
       "4  Customer stated there was a bow on the car and...  Defect"
      ]
     },
     "execution_count": 153,
     "metadata": {},
     "output_type": "execute_result"
    }
   ],
   "source": [
    "data.head()"
   ]
  },
  {
   "cell_type": "code",
   "execution_count": 154,
   "metadata": {
    "collapsed": true
   },
   "outputs": [],
   "source": [
    "#digits\n",
    "data['Feedback'] = data['Feedback'].apply(lambda x: ''.join([i for i in str(x) if not i.isdigit()]))\n",
    "#lowercase\n",
    "data['Feedback'] = data['Feedback'].apply(lambda x: \" \".join(x.lower() for x in str(x).split()))\n",
    "#removing url\n",
    "data['Feedback'] = data['Feedback'].apply(lambda x: \" \".join(x for x in str(x).split() if x.startswith(\"http\") == False))\n",
    "#removing punctuation\n",
    "data['Feedback'] = data['Feedback'].str.replace('[^\\w\\s@]','')\n",
    "#lematization\n",
    "#data['Mention Content'] = data['Mention Content'].apply(lambda x: \" \".join(Word(word).lemmatize() for word in x.split()))\n",
    "data['Feedback'] = data['Feedback'].apply(lambda x: ''.join([i for i in str(x) if i[0]!= '@']))\n",
    "data['Feedback'] = data['Feedback'].apply(lambda x: ''.join([i for i in str(x) if i[0]!= '#']))\n",
    "data['Feedback'] = data['Feedback'].apply(lambda x: ''.join([i for i in str(x) if i[0]!= '$']))\n",
    "data['Feedback'] = data['Feedback'].apply(lambda x: ''.join([i for i in str(x) if i[0]!= '_']))"
   ]
  },
  {
   "cell_type": "code",
   "execution_count": 155,
   "metadata": {
    "collapsed": true
   },
   "outputs": [],
   "source": [
    "stop = stopwords.words('english')\n",
    "data['Feedback'] = data['Feedback'].apply(lambda x: \" \".join(x for x in str(x).lower().split() if x not in stop))"
   ]
  },
  {
   "cell_type": "code",
   "execution_count": 156,
   "metadata": {
    "collapsed": true
   },
   "outputs": [],
   "source": [
    "data['Feedback'] = data['Feedback'].apply(lambda x: \" \".join(Word(word).lemmatize() for word in x.split()))"
   ]
  },
  {
   "cell_type": "code",
   "execution_count": 173,
   "metadata": {
    "collapsed": false
   },
   "outputs": [
    {
     "name": "stdout",
     "output_type": "stream",
     "text": [
      "(7913,) (7913,)\n",
      "(4262,) (4262,)\n"
     ]
    }
   ],
   "source": [
    "X_train, X_test, Y_train, Y_test = sklearn.cross_validation.train_test_split(data['Feedback'], data['Type'], test_size=0.35, random_state=42)\n",
    "print (X_train.shape, Y_train.shape)\n",
    "print (X_test.shape, Y_test.shape)"
   ]
  },
  {
   "cell_type": "code",
   "execution_count": 174,
   "metadata": {
    "collapsed": false
   },
   "outputs": [
    {
     "data": {
      "text/plain": [
       "8426     customer stated computer vehicle mind customer...\n",
       "10464         use car short time suggestion recommendation\n",
       "6414     writer advised adaptive cruise control work sa...\n",
       "8184     customer stated car great several bmws custome...\n",
       "8269     customer stated came vehicle noticed wiper bla...\n",
       "Name: Feedback, dtype: object"
      ]
     },
     "execution_count": 174,
     "metadata": {},
     "output_type": "execute_result"
    }
   ],
   "source": [
    "X_train.head()"
   ]
  },
  {
   "cell_type": "code",
   "execution_count": 175,
   "metadata": {
    "collapsed": false
   },
   "outputs": [
    {
     "data": {
      "text/plain": [
       "array(['Wants', 'Neutral', 'DTU', 'Likes', 'Defect'], dtype=object)"
      ]
     },
     "execution_count": 175,
     "metadata": {},
     "output_type": "execute_result"
    }
   ],
   "source": [
    "Y_train.head().unique()"
   ]
  },
  {
   "cell_type": "markdown",
   "metadata": {},
   "source": [
    "# SVM"
   ]
  },
  {
   "cell_type": "code",
   "execution_count": 176,
   "metadata": {
    "collapsed": true
   },
   "outputs": [],
   "source": [
    "text_clf = Pipeline([('vect', CountVectorizer()),\n",
    "                     ('tfidf', TfidfTransformer()),\n",
    "                     ('clf', LinearSVC()),\n",
    "                     ])"
   ]
  },
  {
   "cell_type": "markdown",
   "metadata": {},
   "source": [
    "# Desicion Tree"
   ]
  },
  {
   "cell_type": "code",
   "execution_count": 128,
   "metadata": {
    "collapsed": true
   },
   "outputs": [],
   "source": [
    "text_clf = Pipeline([('vect', CountVectorizer()),\n",
    "                     ('tfidf', TfidfTransformer()),\n",
    "                     ('clf', tree.DecisionTreeClassifier()),\n",
    "                     ])"
   ]
  },
  {
   "cell_type": "markdown",
   "metadata": {},
   "source": [
    "# RandomForest"
   ]
  },
  {
   "cell_type": "code",
   "execution_count": 195,
   "metadata": {
    "collapsed": true
   },
   "outputs": [],
   "source": [
    "text_clf = Pipeline([('vect', CountVectorizer()),\n",
    "                     ('tfidf', TfidfTransformer()),\n",
    "                     ('clf', RandomForestClassifier(n_estimators=1000)),\n",
    "                     ])"
   ]
  },
  {
   "cell_type": "code",
   "execution_count": 196,
   "metadata": {
    "collapsed": false
   },
   "outputs": [
    {
     "data": {
      "text/plain": [
       "Pipeline(memory=None,\n",
       "     steps=[('vect', CountVectorizer(analyzer='word', binary=False, decode_error='strict',\n",
       "        dtype=<class 'numpy.int64'>, encoding='utf-8', input='content',\n",
       "        lowercase=True, max_df=1.0, max_features=None, min_df=1,\n",
       "        ngram_range=(1, 1), preprocessor=None, stop_words=None,\n",
       "        strip...n_jobs=1,\n",
       "            oob_score=False, random_state=None, verbose=0,\n",
       "            warm_start=False))])"
      ]
     },
     "execution_count": 196,
     "metadata": {},
     "output_type": "execute_result"
    }
   ],
   "source": [
    "text_clf.fit(X_train, Y_train)"
   ]
  },
  {
   "cell_type": "code",
   "execution_count": 197,
   "metadata": {
    "collapsed": true
   },
   "outputs": [],
   "source": [
    "predicted = text_clf.predict(X_test)"
   ]
  },
  {
   "cell_type": "code",
   "execution_count": 198,
   "metadata": {
    "collapsed": false
   },
   "outputs": [
    {
     "name": "stdout",
     "output_type": "stream",
     "text": [
      "             precision    recall  f1-score   support\n",
      "\n",
      "        DTU       0.77      0.78      0.77       956\n",
      "     Defect       0.82      0.75      0.79       929\n",
      "      Likes       0.88      0.94      0.91      1385\n",
      "    Neutral       0.54      0.63      0.59       249\n",
      "      Wants       0.72      0.65      0.68       743\n",
      "\n",
      "avg / total       0.79      0.79      0.79      4262\n",
      "\n"
     ]
    }
   ],
   "source": [
    "print(metrics.classification_report(Y_test, predicted))"
   ]
  },
  {
   "cell_type": "markdown",
   "metadata": {},
   "source": [
    "# Validation"
   ]
  },
  {
   "cell_type": "code",
   "execution_count": 182,
   "metadata": {
    "collapsed": true
   },
   "outputs": [],
   "source": [
    "val_data = pd.read_excel(\"C:/Users/subburam.subbiah/Desktop/Curent Work/BMW Tagging/Classification/Validation_set.xlsx\")"
   ]
  },
  {
   "cell_type": "code",
   "execution_count": 183,
   "metadata": {
    "collapsed": false
   },
   "outputs": [
    {
     "data": {
      "text/html": [
       "<div>\n",
       "<style scoped>\n",
       "    .dataframe tbody tr th:only-of-type {\n",
       "        vertical-align: middle;\n",
       "    }\n",
       "\n",
       "    .dataframe tbody tr th {\n",
       "        vertical-align: top;\n",
       "    }\n",
       "\n",
       "    .dataframe thead th {\n",
       "        text-align: right;\n",
       "    }\n",
       "</style>\n",
       "<table border=\"1\" class=\"dataframe\">\n",
       "  <thead>\n",
       "    <tr style=\"text-align: right;\">\n",
       "      <th></th>\n",
       "      <th>Feedback</th>\n",
       "      <th>Type</th>\n",
       "    </tr>\n",
       "  </thead>\n",
       "  <tbody>\n",
       "    <tr>\n",
       "      <th>0</th>\n",
       "      <td>The car originally has fog lights, but it was ...</td>\n",
       "      <td>Neutral</td>\n",
       "    </tr>\n",
       "    <tr>\n",
       "      <th>1</th>\n",
       "      <td>The customer feels that the car is not good-lo...</td>\n",
       "      <td>Wants</td>\n",
       "    </tr>\n",
       "    <tr>\n",
       "      <th>2</th>\n",
       "      <td>The car paint is a bit thin, The customer went...</td>\n",
       "      <td>DTU</td>\n",
       "    </tr>\n",
       "    <tr>\n",
       "      <th>3</th>\n",
       "      <td>The car paint is easily scraped off.</td>\n",
       "      <td>DTU</td>\n",
       "    </tr>\n",
       "    <tr>\n",
       "      <th>4</th>\n",
       "      <td>The car paint is not good enough.</td>\n",
       "      <td>Wants</td>\n",
       "    </tr>\n",
       "  </tbody>\n",
       "</table>\n",
       "</div>"
      ],
      "text/plain": [
       "                                            Feedback     Type\n",
       "0  The car originally has fog lights, but it was ...  Neutral\n",
       "1  The customer feels that the car is not good-lo...    Wants\n",
       "2  The car paint is a bit thin, The customer went...      DTU\n",
       "3               The car paint is easily scraped off.      DTU\n",
       "4                  The car paint is not good enough.    Wants"
      ]
     },
     "execution_count": 183,
     "metadata": {},
     "output_type": "execute_result"
    }
   ],
   "source": [
    "len(val_data)\n",
    "val_data.head()"
   ]
  },
  {
   "cell_type": "code",
   "execution_count": 184,
   "metadata": {
    "collapsed": true
   },
   "outputs": [],
   "source": [
    "#digits\n",
    "val_data['Feedback'] = val_data['Feedback'].apply(lambda x: ''.join([i for i in str(x) if not i.isdigit()]))\n",
    "#lowercase\n",
    "val_data['Feedback'] = val_data['Feedback'].apply(lambda x: \" \".join(x.lower() for x in str(x).split()))\n",
    "#removing url\n",
    "val_data['Feedback'] = val_data['Feedback'].apply(lambda x: \" \".join(x for x in str(x).split() if x.startswith(\"http\") == False))\n",
    "#removing punctuation\n",
    "val_data['Feedback'] = val_data['Feedback'].str.replace('[^\\w\\s@]','')\n",
    "#lematization\n",
    "#val_data['Mention Content'] = val_data['Mention Content'].apply(lambda x: \" \".join(Word(word).lemmatize() for word in x.split()))\n",
    "val_data['Feedback'] = val_data['Feedback'].apply(lambda x: ''.join([i for i in str(x) if i[0]!= '@']))\n",
    "val_data['Feedback'] = val_data['Feedback'].apply(lambda x: ''.join([i for i in str(x) if i[0]!= '#']))\n",
    "val_data['Feedback'] = val_data['Feedback'].apply(lambda x: ''.join([i for i in str(x) if i[0]!= '$']))\n",
    "val_data['Feedback'] = val_data['Feedback'].apply(lambda x: ''.join([i for i in str(x) if i[0]!= '_']))"
   ]
  },
  {
   "cell_type": "code",
   "execution_count": 185,
   "metadata": {
    "collapsed": true
   },
   "outputs": [],
   "source": [
    "stop = stopwords.words('english')\n",
    "val_data['Feedback'] = val_data['Feedback'].apply(lambda x: \" \".join(x for x in str(x).lower().split() if x not in stop))\n",
    "val_data['Feedback'] = val_data['Feedback'].apply(lambda x: \" \".join(Word(word).lemmatize() for word in x.split()))"
   ]
  },
  {
   "cell_type": "code",
   "execution_count": 186,
   "metadata": {
    "collapsed": true
   },
   "outputs": [],
   "source": [
    "X_val=val_data['Feedback']\n",
    "Y_val=val_data['Type']"
   ]
  },
  {
   "cell_type": "code",
   "execution_count": 199,
   "metadata": {
    "collapsed": true
   },
   "outputs": [],
   "source": [
    "validated = text_clf.predict(X_val)"
   ]
  },
  {
   "cell_type": "code",
   "execution_count": 200,
   "metadata": {
    "collapsed": false
   },
   "outputs": [
    {
     "name": "stdout",
     "output_type": "stream",
     "text": [
      "             precision    recall  f1-score   support\n",
      "\n",
      "        DTU       0.68      0.15      0.25       915\n",
      "     Defect       0.33      0.11      0.16       214\n",
      "      Likes       0.47      0.65      0.55       591\n",
      "    Neutral       0.37      0.69      0.48       493\n",
      "      Wants       0.54      0.62      0.58      1285\n",
      "\n",
      "avg / total       0.53      0.48      0.45      3498\n",
      "\n"
     ]
    }
   ],
   "source": [
    "print(metrics.classification_report(Y_val, validated))"
   ]
  },
  {
   "cell_type": "code",
   "execution_count": null,
   "metadata": {
    "collapsed": true
   },
   "outputs": [],
   "source": []
  }
 ],
 "metadata": {
  "kernelspec": {
   "display_name": "Python 3",
   "language": "python",
   "name": "python3"
  },
  "language_info": {
   "codemirror_mode": {
    "name": "ipython",
    "version": 3
   },
   "file_extension": ".py",
   "mimetype": "text/x-python",
   "name": "python",
   "nbconvert_exporter": "python",
   "pygments_lexer": "ipython3",
   "version": "3.6.0"
  }
 },
 "nbformat": 4,
 "nbformat_minor": 2
}
